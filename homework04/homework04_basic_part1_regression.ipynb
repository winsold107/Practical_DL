{
 "cells": [
  {
   "cell_type": "markdown",
   "metadata": {},
   "source": [
    "# Natural Language Processing with Deep Learning\n",
    "\n",
    "Today we're gonna apply the newly learned DL tools for sequence processing to the task of predicting job salary.\n",
    "\n",
    "Special thanks to [Oleg Vasilev](https://github.com/Omrigan/) for the assignment core (orignally written for theano/tensorflow).\n",
    "\n",
    "**There are 4 tasks in the assignment. By completing task 1 and 2 and 3 you get 0.5 points. For Task 4 you get 0.5. as well**"
   ]
  },
  {
   "cell_type": "code",
   "execution_count": 4,
   "metadata": {},
   "outputs": [],
   "source": [
    "import torch\n",
    "device = torch.device(\"cuda:0\") if torch.cuda.is_available() else torch.device(\"cpu\")"
   ]
  },
  {
   "cell_type": "code",
   "execution_count": 5,
   "metadata": {},
   "outputs": [],
   "source": [
    "import numpy as np\n",
    "import pandas as pd\n",
    "import matplotlib.pyplot as plt\n",
    "%matplotlib inline"
   ]
  },
  {
   "cell_type": "markdown",
   "metadata": {},
   "source": [
    "### About the challenge\n",
    "For starters, let's download the data from __[here](https://yadi.sk/d/vVEOWPFY3NruT7)__.\n",
    "\n",
    "You can also get it from the competition [page](https://www.kaggle.com/c/job-salary-prediction/data) (in that case, pick `Train_rev1.*`).\n",
    "\n",
    "\n",
    "Our task is to predict one number, __SalaryNormalized__, in the sense of minimizing __Mean Absolute Error__.\n",
    "\n",
    "<img src=\"https://storage.googleapis.com/kaggle-competitions/kaggle/3342/media/salary%20prediction%20engine%20v2.png\" width=400px>\n",
    "\n",
    "To do so, our model ca access a number of features:\n",
    "* Free text: __`Title`__ and  __`FullDescription`__\n",
    "* Categorical: __`Category`__, __`Company`__, __`LocationNormalized`__, __`ContractType`__, and __`ContractTime`__.\n",
    "\n",
    "\n",
    "You can read more [in the official description](https://www.kaggle.com/c/job-salary-prediction#description)."
   ]
  },
  {
   "cell_type": "code",
   "execution_count": 6,
   "metadata": {},
   "outputs": [
    {
     "data": {
      "text/plain": [
       "60205     Maternity Cover  Year **** Teacher Vacancy A l...\n",
       "244069    Find ****’s of vacancies like this on the sect...\n",
       "40446     My client, based in Worcestershire, is looking...\n",
       "Name: FullDescription, dtype: object"
      ]
     },
     "execution_count": 6,
     "metadata": {},
     "output_type": "execute_result"
    }
   ],
   "source": [
    "data = pd.read_csv(\"./Train_rev1.zip\", index_col=None)\n",
    "data['Log1pSalary'] = np.log1p(data['SalaryNormalized']).astype('float32')\n",
    "\n",
    "text_columns = [\"Title\", \"FullDescription\"]\n",
    "categorical_columns = [\"Category\", \"Company\", \"LocationNormalized\", \"ContractType\", \"ContractTime\"]\n",
    "target_column = \"Log1pSalary\"\n",
    "data[categorical_columns] = data[categorical_columns].fillna('NaN') # cast nan to string\n",
    "\n",
    "data.sample(3)['FullDescription']"
   ]
  },
  {
   "cell_type": "code",
   "execution_count": 7,
   "metadata": {},
   "outputs": [
    {
     "data": {
      "text/html": [
       "<div>\n",
       "<style scoped>\n",
       "    .dataframe tbody tr th:only-of-type {\n",
       "        vertical-align: middle;\n",
       "    }\n",
       "\n",
       "    .dataframe tbody tr th {\n",
       "        vertical-align: top;\n",
       "    }\n",
       "\n",
       "    .dataframe thead th {\n",
       "        text-align: right;\n",
       "    }\n",
       "</style>\n",
       "<table border=\"1\" class=\"dataframe\">\n",
       "  <thead>\n",
       "    <tr style=\"text-align: right;\">\n",
       "      <th></th>\n",
       "      <th>Id</th>\n",
       "      <th>Title</th>\n",
       "      <th>FullDescription</th>\n",
       "      <th>LocationRaw</th>\n",
       "      <th>LocationNormalized</th>\n",
       "      <th>ContractType</th>\n",
       "      <th>ContractTime</th>\n",
       "      <th>Company</th>\n",
       "      <th>Category</th>\n",
       "      <th>SalaryRaw</th>\n",
       "      <th>SalaryNormalized</th>\n",
       "      <th>SourceName</th>\n",
       "      <th>Log1pSalary</th>\n",
       "    </tr>\n",
       "  </thead>\n",
       "  <tbody>\n",
       "    <tr>\n",
       "      <th>184546</th>\n",
       "      <td>71656063</td>\n",
       "      <td>Business Analyst</td>\n",
       "      <td>We are currently looking for a strong business...</td>\n",
       "      <td>Warwickshire</td>\n",
       "      <td>Warwickshire</td>\n",
       "      <td>full_time</td>\n",
       "      <td>permanent</td>\n",
       "      <td>Hays   Midlands</td>\n",
       "      <td>IT Jobs</td>\n",
       "      <td>35000.00 - 42000.00 GBP Annual</td>\n",
       "      <td>38500</td>\n",
       "      <td>jobs.newstatesman.com</td>\n",
       "      <td>10.558439</td>\n",
       "    </tr>\n",
       "    <tr>\n",
       "      <th>146948</th>\n",
       "      <td>70754829</td>\n",
       "      <td>Retail Sales Skills Wanted  Trainee Sales Advisor</td>\n",
       "      <td>Calling all RETAIL SALES ASSISTANTS, RETAIL ST...</td>\n",
       "      <td>Coventry</td>\n",
       "      <td>Coventry</td>\n",
       "      <td>NaN</td>\n",
       "      <td>NaN</td>\n",
       "      <td>SMG Solutions</td>\n",
       "      <td>Customer Services Jobs</td>\n",
       "      <td>250-500 per week (estimated OTE)</td>\n",
       "      <td>18000</td>\n",
       "      <td>MyUkJobs</td>\n",
       "      <td>9.798182</td>\n",
       "    </tr>\n",
       "    <tr>\n",
       "      <th>190721</th>\n",
       "      <td>71746504</td>\n",
       "      <td>Business Studies Teacher</td>\n",
       "      <td>Business Studies Teacher Derby Long Term Suppl...</td>\n",
       "      <td>Derby</td>\n",
       "      <td>Derby</td>\n",
       "      <td>NaN</td>\n",
       "      <td>NaN</td>\n",
       "      <td>Aspire People</td>\n",
       "      <td>Teaching Jobs</td>\n",
       "      <td>96 - 141 per day</td>\n",
       "      <td>28440</td>\n",
       "      <td>MyUkJobs</td>\n",
       "      <td>10.255587</td>\n",
       "    </tr>\n",
       "  </tbody>\n",
       "</table>\n",
       "</div>"
      ],
      "text/plain": [
       "              Id                                              Title  \\\n",
       "184546  71656063                                   Business Analyst   \n",
       "146948  70754829  Retail Sales Skills Wanted  Trainee Sales Advisor   \n",
       "190721  71746504                           Business Studies Teacher   \n",
       "\n",
       "                                          FullDescription   LocationRaw  \\\n",
       "184546  We are currently looking for a strong business...  Warwickshire   \n",
       "146948  Calling all RETAIL SALES ASSISTANTS, RETAIL ST...      Coventry   \n",
       "190721  Business Studies Teacher Derby Long Term Suppl...         Derby   \n",
       "\n",
       "       LocationNormalized ContractType ContractTime          Company  \\\n",
       "184546       Warwickshire    full_time    permanent  Hays   Midlands   \n",
       "146948           Coventry          NaN          NaN    SMG Solutions   \n",
       "190721              Derby          NaN          NaN    Aspire People   \n",
       "\n",
       "                      Category                         SalaryRaw  \\\n",
       "184546                 IT Jobs    35000.00 - 42000.00 GBP Annual   \n",
       "146948  Customer Services Jobs  250-500 per week (estimated OTE)   \n",
       "190721           Teaching Jobs                  96 - 141 per day   \n",
       "\n",
       "        SalaryNormalized             SourceName  Log1pSalary  \n",
       "184546             38500  jobs.newstatesman.com    10.558439  \n",
       "146948             18000               MyUkJobs     9.798182  \n",
       "190721             28440               MyUkJobs    10.255587  "
      ]
     },
     "execution_count": 7,
     "metadata": {},
     "output_type": "execute_result"
    }
   ],
   "source": [
    "data.sample(3)"
   ]
  },
  {
   "cell_type": "markdown",
   "metadata": {},
   "source": [
    "### The NLP part\n",
    "\n",
    "To even begin training our neural network, we're gonna need to preprocess the text features: tokenize it and build the token vocabularies.\n",
    "\n",
    "Since it is not an NLP course, we're gonna use simple built-in NLTK tokenization."
   ]
  },
  {
   "cell_type": "code",
   "execution_count": 8,
   "metadata": {
    "scrolled": true
   },
   "outputs": [
    {
     "name": "stdout",
     "output_type": "stream",
     "text": [
      "Before\n",
      "0         Engineering Systems Analyst\n",
      "100000                   HR Assistant\n",
      "200000           Senior EC&I Engineer\n",
      "Name: Title, dtype: object\n"
     ]
    }
   ],
   "source": [
    "print(\"Before\")\n",
    "print(data[\"Title\"][::100000])"
   ]
  },
  {
   "cell_type": "code",
   "execution_count": 10,
   "metadata": {},
   "outputs": [
    {
     "name": "stdout",
     "output_type": "stream",
     "text": [
      "Defaulting to user installation because normal site-packages is not writeable\n",
      "Collecting nltk\n",
      "  Downloading nltk-3.6.7-py3-none-any.whl (1.5 MB)\n",
      "     |████████████████████████████████| 1.5 MB 1.1 MB/s            \n",
      "\u001b[?25hRequirement already satisfied: click in /usr/local/lib/python3.6/dist-packages (from nltk) (7.0)\n",
      "Requirement already satisfied: joblib in /usr/local/lib/python3.6/dist-packages (from nltk) (0.13.2)\n",
      "Requirement already satisfied: tqdm in /usr/local/lib/python3.6/dist-packages (from nltk) (4.50.2)\n",
      "Collecting regex>=2021.8.3\n",
      "  Downloading regex-2022.4.24-cp36-cp36m-manylinux_2_17_x86_64.manylinux2014_x86_64.whl (749 kB)\n",
      "     |████████████████████████████████| 749 kB 33.6 MB/s            \n",
      "\u001b[?25hInstalling collected packages: regex, nltk\n",
      "Successfully installed nltk-3.6.7 regex-2022.4.24\n"
     ]
    }
   ],
   "source": [
    "!pip install nltk"
   ]
  },
  {
   "cell_type": "code",
   "execution_count": 11,
   "metadata": {},
   "outputs": [],
   "source": [
    "import nltk\n",
    "tokenizer = nltk.tokenize.WordPunctTokenizer()\n",
    "\n",
    "for col in text_columns:\n",
    "    data[col] = data[col].apply(lambda l: ' '.join(tokenizer.tokenize(str(l).lower())))"
   ]
  },
  {
   "cell_type": "markdown",
   "metadata": {},
   "source": [
    "Now we can assume that our text is a space-separated list of tokens:"
   ]
  },
  {
   "cell_type": "code",
   "execution_count": 12,
   "metadata": {},
   "outputs": [
    {
     "name": "stdout",
     "output_type": "stream",
     "text": [
      "After\n",
      "0         engineering systems analyst\n",
      "100000                   hr assistant\n",
      "200000         senior ec & i engineer\n",
      "Name: Title, dtype: object\n"
     ]
    }
   ],
   "source": [
    "print(\"After\")\n",
    "print(data[\"Title\"][::100000])"
   ]
  },
  {
   "cell_type": "markdown",
   "metadata": {},
   "source": [
    "Not all words are equally useful. Some of them are typos or rare words that are only present a few times. \n",
    "\n",
    "Let's see how many times is each word present in the data so that we can build a \"white list\" of known words."
   ]
  },
  {
   "cell_type": "code",
   "execution_count": 20,
   "metadata": {},
   "outputs": [],
   "source": [
    "from collections import Counter\n",
    "token_counts = Counter()\n",
    "\n",
    "def counts(arr):\n",
    "    for i in arr:\n",
    "        for token in i.split(' '):\n",
    "            token_counts[token] += 1\n",
    "        \n",
    "# Count how many times does each token occur in \"Title\" and \"FullDescription\"\n",
    "counts(data[\"Title\"].values)\n",
    "counts(data[\"FullDescription\"].values)"
   ]
  },
  {
   "cell_type": "code",
   "execution_count": 21,
   "metadata": {},
   "outputs": [
    {
     "name": "stdout",
     "output_type": "stream",
     "text": [
      "Total unique tokens : 202704\n",
      "('and', 2657388)\n",
      "('.', 2523216)\n",
      "(',', 2318606)\n",
      "('the', 2080994)\n",
      "('to', 2019884)\n",
      "...\n",
      "('stephanietraveltraderecruitmnt', 1)\n",
      "('ruabon', 1)\n",
      "('lowehays', 1)\n",
      "Correct!\n"
     ]
    }
   ],
   "source": [
    "print(\"Total unique tokens :\", len(token_counts))\n",
    "print('\\n'.join(map(str, token_counts.most_common(n=5))))\n",
    "print('...')\n",
    "print('\\n'.join(map(str, token_counts.most_common()[-3:])))\n",
    "\n",
    "assert token_counts.most_common(1)[0][1] in  range(2600000, 2700000)\n",
    "assert len(token_counts) in range(200000, 210000)\n",
    "print('Correct!')"
   ]
  },
  {
   "cell_type": "code",
   "execution_count": 22,
   "metadata": {},
   "outputs": [
    {
     "data": {
      "text/plain": [
       "Text(0.5, 0, 'Counts')"
      ]
     },
     "execution_count": 22,
     "metadata": {},
     "output_type": "execute_result"
    },
    {
     "data": {
      "image/png": "[encoded data removed]",
      "text/plain": [
       "<Figure size 432x288 with 1 Axes>"
      ]
     },
     "metadata": {},
     "output_type": "display_data"
    }
   ],
   "source": [
    "# Let's see how many words are there for each count\n",
    "\n",
    "_ = plt.hist(list(token_counts.values()), range=[0, 10**4], bins=50, log=True)\n",
    "plt.xlabel(\"Counts\")"
   ]
  },
  {
   "cell_type": "markdown",
   "metadata": {},
   "source": [
    "__Task 1.1__ Get a list of all tokens that occur at least 10 times."
   ]
  },
  {
   "cell_type": "code",
   "execution_count": 23,
   "metadata": {},
   "outputs": [],
   "source": [
    "min_count = 10\n",
    "\n",
    "# tokens from token_counts keys that had at least min_count occurrences throughout the dataset\n",
    "tokens = [token for token, val in token_counts.items() if val >= min_count]\n",
    "\n",
    "# Add a special tokens for unknown and empty words\n",
    "UNK, PAD = \"UNK\", \"PAD\"\n",
    "tokens = [UNK, PAD] + tokens"
   ]
  },
  {
   "cell_type": "code",
   "execution_count": 24,
   "metadata": {},
   "outputs": [
    {
     "name": "stdout",
     "output_type": "stream",
     "text": [
      "Tokens left: 34158\n",
      "Correct!\n"
     ]
    }
   ],
   "source": [
    "print(\"Tokens left:\", len(tokens))\n",
    "assert type(tokens)==list\n",
    "assert len(tokens) in range(32000,35000)\n",
    "assert 'me' in tokens\n",
    "assert UNK in tokens\n",
    "print(\"Correct!\")"
   ]
  },
  {
   "cell_type": "markdown",
   "metadata": {},
   "source": [
    "__Task 1.2__ Build an inverse token index: a dictionary from token(string) to it's index in `tokens` (int)"
   ]
  },
  {
   "cell_type": "code",
   "execution_count": 26,
   "metadata": {},
   "outputs": [],
   "source": [
    "token_to_id = {token : index for index, token in enumerate(tokens)}"
   ]
  },
  {
   "cell_type": "code",
   "execution_count": 27,
   "metadata": {},
   "outputs": [
    {
     "name": "stdout",
     "output_type": "stream",
     "text": [
      "Correct!\n"
     ]
    }
   ],
   "source": [
    "assert isinstance(token_to_id, dict)\n",
    "assert len(token_to_id) == len(tokens)\n",
    "for tok in tokens:\n",
    "    assert tokens[token_to_id[tok]] == tok\n",
    "\n",
    "print(\"Correct!\")"
   ]
  },
  {
   "cell_type": "markdown",
   "metadata": {},
   "source": [
    "And finally, let's use the vocabulary you've built to map text lines into torch-digestible matrices."
   ]
  },
  {
   "cell_type": "code",
   "execution_count": 28,
   "metadata": {},
   "outputs": [],
   "source": [
    "UNK_IX, PAD_IX = map(token_to_id.get, [UNK, PAD])\n",
    "\n",
    "def as_matrix(sequences, max_len=None):\n",
    "    \"\"\" Convert a list of tokens into a matrix with padding \"\"\"\n",
    "    if isinstance(sequences[0], str):\n",
    "        sequences = list(map(str.split, sequences))\n",
    "        \n",
    "    max_len = min(max(map(len, sequences)), max_len or float('inf'))\n",
    "    \n",
    "    matrix = np.full((len(sequences), max_len), np.int32(PAD_IX))\n",
    "    for i,seq in enumerate(sequences):\n",
    "        row_ix = [token_to_id.get(word, UNK_IX) for word in seq[:max_len]]\n",
    "        matrix[i, :len(row_ix)] = row_ix\n",
    "    \n",
    "    return matrix"
   ]
  },
  {
   "cell_type": "code",
   "execution_count": 29,
   "metadata": {},
   "outputs": [
    {
     "name": "stdout",
     "output_type": "stream",
     "text": [
      "engineering systems analyst\n",
      "hr assistant\n",
      "senior ec & i engineer\n",
      "\n",
      "Matrix:\n",
      "[[   2    3    4    1    1]\n",
      " [ 998  176    1    1    1]\n",
      " [  18 3472  242   59    6]]\n"
     ]
    }
   ],
   "source": [
    "#### print(\"Lines:\")\n",
    "print('\\n'.join(data[\"Title\"][::100000].values), end='\\n\\n')\n",
    "print(\"Matrix:\")\n",
    "print(as_matrix(data[\"Title\"][::100000]))"
   ]
  },
  {
   "cell_type": "markdown",
   "metadata": {},
   "source": [
    "Now let's  encode the categirical data we have.\n",
    "\n",
    "As usual, we shall use one-hot encoding for simplicity. Kudos if you implement tf-idf, target averaging or pseudo-counter-based encoding."
   ]
  },
  {
   "cell_type": "code",
   "execution_count": 30,
   "metadata": {},
   "outputs": [
    {
     "data": {
      "text/plain": [
       "DictVectorizer(dtype=<class 'numpy.float32'>, separator='=', sort=True,\n",
       "        sparse=False)"
      ]
     },
     "execution_count": 30,
     "metadata": {},
     "output_type": "execute_result"
    }
   ],
   "source": [
    "from sklearn.feature_extraction import DictVectorizer\n",
    "\n",
    "# we only consider top-1k most frequent companies to minimize memory usage\n",
    "top_companies, top_counts = zip(*Counter(data['Company']).most_common(1000))\n",
    "recognized_companies = set(top_companies)\n",
    "data[\"Company\"] = data[\"Company\"].apply(lambda comp: comp if comp in recognized_companies else \"Other\")\n",
    "\n",
    "categorical_vectorizer = DictVectorizer(dtype=np.float32, sparse=False)\n",
    "categorical_vectorizer.fit(data[categorical_columns].apply(dict, axis=1))"
   ]
  },
  {
   "cell_type": "markdown",
   "metadata": {},
   "source": [
    "### The data science part\n",
    "\n",
    "Once we've learned to tokenize the data, let's design a machine learning experiment.\n",
    "\n",
    "As before, we won't focus too much on validation, opting for a simple train-test split.\n",
    "\n",
    "__To be completely rigorous,__ we've comitted a small crime here: we used the whole data for tokenization and vocabulary building. A more strict way would be to do that part on training set only. You may want to do that and measure the magnitude of changes."
   ]
  },
  {
   "cell_type": "code",
   "execution_count": 31,
   "metadata": {},
   "outputs": [
    {
     "name": "stdout",
     "output_type": "stream",
     "text": [
      "Train size =  220291\n",
      "Validation size =  24477\n"
     ]
    }
   ],
   "source": [
    "from sklearn.model_selection import train_test_split\n",
    "\n",
    "data_train, data_val = train_test_split(data, test_size=0.1, random_state=42)\n",
    "\n",
    "print(\"Train size = \", len(data_train))\n",
    "print(\"Validation size = \", len(data_val))"
   ]
  },
  {
   "cell_type": "code",
   "execution_count": 32,
   "metadata": {},
   "outputs": [],
   "source": [
    "def generate_batch(data, batch_size=None, replace=True, max_len=None):\n",
    "    \"\"\"\n",
    "    Creates a pytorch-friendly dict from the batch data.\n",
    "    :returns: a dict with {'title' : int64[batch, title_max_len]\n",
    "    \"\"\"\n",
    "    if batch_size is not None:\n",
    "        data = data.sample(batch_size, replace=replace)\n",
    "    \n",
    "    batch = {}\n",
    "    for col in text_columns:\n",
    "        batch[col] = as_matrix(data[col].values, max_len)\n",
    "    \n",
    "    batch['Categorical'] = categorical_vectorizer.transform(data[categorical_columns].apply(dict, axis=1))\n",
    "    \n",
    "    if target_column in data.columns:\n",
    "        batch[target_column] = data[target_column].values\n",
    "    \n",
    "    return batch"
   ]
  },
  {
   "cell_type": "code",
   "execution_count": 33,
   "metadata": {},
   "outputs": [
    {
     "data": {
      "text/plain": [
       "{'Title': array([[  83,   43, 1071,   48,    9,  139,  121,  467],\n",
       "        [1397, 2362,    1,    1,    1,    1,    1,    1],\n",
       "        [2522,  288,  443,   74,  191,    1,    1,    1]], dtype=int32),\n",
       " 'FullDescription': array([[ 1433,  1617,    73,   561,  1659,    83,    43,    86,   444,\n",
       "            73],\n",
       "        [  561,  3605,  1617,  1566, 12962,    86,  2692,   110,   296,\n",
       "          1314],\n",
       "        [ 2522,   288,   693,    74,   191,   561,  1073,  1617,  1566,\n",
       "         12962]], dtype=int32),\n",
       " 'Categorical': array([[0., 0., 0., ..., 0., 0., 0.],\n",
       "        [0., 0., 0., ..., 0., 0., 0.],\n",
       "        [0., 0., 0., ..., 0., 0., 0.]], dtype=float32),\n",
       " 'Log1pSalary': array([9.998843, 9.852247, 9.903538], dtype=float32)}"
      ]
     },
     "execution_count": 33,
     "metadata": {},
     "output_type": "execute_result"
    }
   ],
   "source": [
    "generate_batch(data_train, 3, max_len=10)"
   ]
  },
  {
   "cell_type": "markdown",
   "metadata": {},
   "source": [
    "### Finally, let's talk deep learning\n",
    "\n",
    "Out model consists of three branches:\n",
    "* Title encoder\n",
    "* Description encoder\n",
    "* Categorical features encoder\n",
    "\n",
    "We will then feed all 3 branches into one common network that predicts salary.\n",
    "\n",
    "![scheme](https://github.com/yandexdataschool/Practical_DL/raw/master/homework04/conv_salary_architecture.png)"
   ]
  },
  {
   "cell_type": "markdown",
   "metadata": {},
   "source": [
    "By default, both text vectorizers shall use 1d convolutions, followed by global pooling over time."
   ]
  },
  {
   "cell_type": "code",
   "execution_count": 34,
   "metadata": {},
   "outputs": [],
   "source": [
    "import torch, torch.nn as nn\n",
    "import torch.nn.functional as F\n",
    "\n",
    "class GlobalMaxPooling(nn.Module):\n",
    "    def __init__(self, dim=-1):\n",
    "        super(self.__class__, self).__init__()\n",
    "        self.dim = dim\n",
    "        \n",
    "    def forward(self, x):\n",
    "        return x.max(dim=self.dim)[0]    "
   ]
  },
  {
   "cell_type": "code",
   "execution_count": 35,
   "metadata": {},
   "outputs": [],
   "source": [
    "class TitleEncoder(nn.Module):\n",
    "    def __init__(self, n_tokens=len(tokens), out_size=64):\n",
    "        \"\"\" \n",
    "        A simple sequential encoder for titles.\n",
    "        x -> emb -> conv -> global_max -> relu -> dense\n",
    "        \"\"\"\n",
    "        super(self.__class__, self).__init__()\n",
    "        self.emb = nn.Embedding(n_tokens, 64, padding_idx=PAD_IX).cuda()\n",
    "        self.conv = nn.Conv1d(64, out_size * 4, kernel_size=3, padding=1).cuda()\n",
    "        self.pool = GlobalMaxPooling().cuda()\n",
    "\n",
    "        self.relu1 = nn.ReLU().cuda()\n",
    "        self.dense1 = nn.Linear(out_size * 4, out_size * 2).cuda()\n",
    "        self.relu2 = nn.ReLU().cuda()\n",
    "        self.dense2 = nn.Linear(out_size * 2, out_size).cuda()\n",
    "\n",
    "    def forward(self, text_ix):\n",
    "        \"\"\"\n",
    "        :param text_ix: int64 Variable of shape [batch_size, max_len]\n",
    "        :returns: float32 Variable of shape [batch_size, out_size]\n",
    "        \"\"\"\n",
    "        h = self.emb(text_ix)\n",
    "\n",
    "        # we transpose from [batch, time, units] to [batch, units, time] to fit Conv1d dim order\n",
    "        h = torch.transpose(h, 1, 2)\n",
    "        \n",
    "        # Apply the layers as defined above. Add some ReLUs before dense. \n",
    "        return self.dense2(self.relu2(self.dense1(self.relu1(self.pool(self.conv(h))))))"
   ]
  },
  {
   "cell_type": "code",
   "execution_count": 37,
   "metadata": {},
   "outputs": [
    {
     "name": "stdout",
     "output_type": "stream",
     "text": [
      "Seems fine\n"
     ]
    }
   ],
   "source": [
    "title_encoder = TitleEncoder(out_size=64)\n",
    "\n",
    "dummy_x = torch.LongTensor(generate_batch(data_train, 3)['Title']).cuda()\n",
    "dummy_v = title_encoder(dummy_x)\n",
    "\n",
    "assert tuple(dummy_v.shape) == (dummy_x.shape[0], 64)\n",
    "\n",
    "del title_encoder\n",
    "print(\"Seems fine\")"
   ]
  },
  {
   "cell_type": "markdown",
   "metadata": {},
   "source": [
    "__Task 2.1__ Create description encoder"
   ]
  },
  {
   "cell_type": "code",
   "execution_count": 38,
   "metadata": {},
   "outputs": [],
   "source": [
    "# Define an encoder for job descriptions.\n",
    "# Use any means you want so long as it's torch.nn.Module.\n",
    "class DescriptionEncoder(nn.Module):\n",
    "    def __init__(self, n_tokens=len(tokens), out_size=64):\n",
    "        super(self.__class__, self).__init__()\n",
    "        self.emb = nn.Embedding(n_tokens, 64, padding_idx=PAD_IX).cuda()\n",
    "        self.conv1 = nn.Conv1d(64, out_size * 2, kernel_size=3, padding=1).cuda()\n",
    "        self.relu1 = nn.ReLU().cuda()\n",
    "        self.conv2 = nn.Conv1d(out_size * 2, out_size * 4, kernel_size=3, padding=1).cuda()\n",
    "        self.pool = GlobalMaxPooling().cuda()\n",
    "        \n",
    "        self.relu2 = nn.ReLU().cuda()\n",
    "        self.dense1 = nn.Linear(out_size * 4, out_size * 2).cuda()\n",
    "        self.relu3 = nn.ReLU().cuda()\n",
    "        self.dense2 = nn.Linear(out_size * 2, out_size).cuda()\n",
    "\n",
    "    def forward(self, text_ix):\n",
    "        \"\"\"\n",
    "        :param text_ix: int64 Variable of shape [batch_size, max_len]\n",
    "        :returns: float32 Variable of shape [batch_size, out_size]\n",
    "        \"\"\"\n",
    "        h = self.emb(text_ix)\n",
    "        # we transpose from [batch, time, units] to [batch, units, time] to fit Conv1d dim order\n",
    "        h = torch.transpose(h, 1, 2)\n",
    "\n",
    "        # Apply the layers as defined above. Add some ReLUs before dense.\n",
    "        return self.dense2(self.relu3(self.dense1(self.relu2(self.pool(self.conv2(self.relu1(self.conv1(h))))))))"
   ]
  },
  {
   "cell_type": "code",
   "execution_count": 39,
   "metadata": {},
   "outputs": [
    {
     "name": "stdout",
     "output_type": "stream",
     "text": [
      "Seems fine too\n"
     ]
    }
   ],
   "source": [
    "desc_encoder = DescriptionEncoder(out_size=64)\n",
    "\n",
    "dummy_x = torch.LongTensor(generate_batch(data_train, 3)['FullDescription']).cuda()\n",
    "dummy_v = desc_encoder(dummy_x)\n",
    "\n",
    "assert tuple(dummy_v.shape) == (dummy_x.shape[0], 64)\n",
    "del desc_encoder\n",
    "print(\"Seems fine too\")"
   ]
  },
  {
   "cell_type": "markdown",
   "metadata": {},
   "source": [
    "__Task 2.2__ Build one network ~~to rule them all~~"
   ]
  },
  {
   "cell_type": "code",
   "execution_count": 40,
   "metadata": {},
   "outputs": [],
   "source": [
    "class FullNetwork(nn.Module):\n",
    "    \"\"\"\n",
    "    This class does all the steps from (title, desc, categorical) features -> predicted target\n",
    "    It unites title & desc encoders you defined above as long as some layers for head and categorical branch.\n",
    "    \"\"\"\n",
    "    \n",
    "    def __init__(self, n_tokens=len(tokens), n_cat_features=len(categorical_vectorizer.vocabulary_)):\n",
    "        super(self.__class__, self).__init__()\n",
    "        \n",
    "        self.title_encoder = TitleEncoder(out_size=64)\n",
    "        self.desc_encoder = DescriptionEncoder(out_size = 128)\n",
    "        \n",
    "        # define layers for categorical features. A few dense layers would do.\n",
    "        self.dense_1 = nn.Linear(n_cat_features, 512).cuda()\n",
    "        self.relu_1 = nn.ReLU().cuda()\n",
    "        self.dense_2 = nn.Linear(512, 256).cuda()\n",
    "        \n",
    "        # define \"output\" layers that process depend the three encoded vectors into answer\n",
    "        self.output = nn.Linear(64 + 128 + 256, 1024).cuda()\n",
    "        self.out_relu = nn.ReLU().cuda()\n",
    "        self.predict = nn.Linear(1024, 1).cuda()\n",
    "        \n",
    "    def forward(self, title_ix, desc_ix, cat_features):\n",
    "        \"\"\"\n",
    "        :param title_ix: int32 Variable [batch, title_len], job titles encoded by as_matrix\n",
    "        :param desc_ix:  int32 Variable [batch, desc_len] , job descriptions encoded by as_matrix\n",
    "        :param cat_features: float32 Variable [batch, n_cat_features]\n",
    "        :returns: float32 Variable 1d [batch], predicted log1p-salary\n",
    "        \"\"\"\n",
    "        \n",
    "        # process each data source with it's respective encoder\n",
    "        title_h = self.title_encoder(title_ix)\n",
    "        desc_h = self.desc_encoder(desc_ix)\n",
    "        \n",
    "        # apply categorical encoder\n",
    "        cat_h = self.dense_2(self.relu_1(self.dense_1(cat_features)))\n",
    "        \n",
    "        # concatenate all vectors together...\n",
    "        joint_h = torch.cat([title_h, desc_h, cat_h], dim=1)\n",
    "        \n",
    "        # ... and stack a few more layers at the top\n",
    "        \n",
    "        output = self.predict(self.out_relu(self.output(joint_h)))\n",
    "        \n",
    "        # Note 1: do not forget to select first columns, [:, 0], to get to 1d outputs\n",
    "        # Note 2: please do not use output nonlinearities.\n",
    "        \n",
    "        return output[:, 0]"
   ]
  },
  {
   "cell_type": "code",
   "execution_count": 41,
   "metadata": {},
   "outputs": [],
   "source": [
    "model = FullNetwork().to(device)\n",
    "opt = torch.optim.Adam(model.parameters(), lr=1e-3)"
   ]
  },
  {
   "cell_type": "code",
   "execution_count": 42,
   "metadata": {},
   "outputs": [],
   "source": [
    "def batch_to_tensors(batch):\n",
    "    title_ix = torch.tensor(batch[\"Title\"], dtype=torch.int64).to(device)\n",
    "    desc_ix = torch.tensor(batch[\"FullDescription\"], dtype=torch.int64).to(device)\n",
    "    cat_features = torch.tensor(batch[\"Categorical\"], dtype=torch.float32).to(device)\n",
    "    reference = torch.tensor(batch[target_column], dtype=torch.float32).to(device)\n",
    "    return [title_ix, desc_ix, cat_features], reference"
   ]
  },
  {
   "cell_type": "code",
   "execution_count": 43,
   "metadata": {},
   "outputs": [],
   "source": [
    "# test it on one batch\n",
    "\n",
    "batch = generate_batch(data_train, 32)\n",
    "\n",
    "model_input, reference = batch_to_tensors(batch)\n",
    "\n",
    "prediction = model(*model_input)\n",
    "\n",
    "assert len(prediction.shape) == 1 and prediction.shape[0] == 32"
   ]
  },
  {
   "cell_type": "code",
   "execution_count": 44,
   "metadata": {},
   "outputs": [],
   "source": [
    "def compute_loss(reference, prediction):\n",
    "    \"\"\"\n",
    "    Computes objective for minimization.\n",
    "    By deafult we minimize MSE, but you are encouraged to try mix up MSE, MAE, huber loss, etc.\n",
    "    \"\"\"\n",
    "    return torch.mean((prediction - reference) ** 2)\n",
    "\n",
    "def compute_mae(reference, prediction):\n",
    "    \"\"\" Compute MAE on actual salary, assuming your model outputs log1p(salary)\"\"\"\n",
    "    return torch.abs(torch.exp(reference - 1) - torch.exp(prediction - 1)).mean()"
   ]
  },
  {
   "cell_type": "code",
   "execution_count": 45,
   "metadata": {},
   "outputs": [],
   "source": [
    "loss = compute_loss(reference, prediction)\n",
    "dummy_grads = torch.autograd.grad(loss, model.parameters(), retain_graph=True)\n",
    "for grad in dummy_grads:\n",
    "    assert grad is not None and not (grad == 0).all(), \"Some model parameters received zero grads. \" \\\n",
    "                                                       \"Double-check that your model uses all it's layers.\""
   ]
  },
  {
   "cell_type": "markdown",
   "metadata": {},
   "source": [
    "### Let's train it!"
   ]
  },
  {
   "cell_type": "code",
   "execution_count": 46,
   "metadata": {},
   "outputs": [],
   "source": [
    "from tqdm import tnrange\n",
    "def iterate_minibatches(data, batch_size=32, max_len=None,\n",
    "                        max_batches=None, shuffle=True, verbose=True):\n",
    "    indices = np.arange(len(data))\n",
    "    if shuffle:\n",
    "        indices = np.random.permutation(indices)\n",
    "    if max_batches is not None:\n",
    "        indices = indices[: batch_size * max_batches]\n",
    "        \n",
    "    irange = tnrange if verbose else range\n",
    "    \n",
    "    for start in irange(0, len(indices), batch_size):\n",
    "        yield generate_batch(data.iloc[indices[start : start + batch_size]], max_len=max_len)"
   ]
  },
  {
   "cell_type": "code",
   "execution_count": 47,
   "metadata": {},
   "outputs": [],
   "source": [
    "num_epochs = 100\n",
    "max_len = 100\n",
    "batch_size = 32\n",
    "batches_per_epoch = 100"
   ]
  },
  {
   "cell_type": "code",
   "execution_count": 48,
   "metadata": {},
   "outputs": [],
   "source": [
    "from IPython import display"
   ]
  },
  {
   "cell_type": "code",
   "execution_count": 49,
   "metadata": {},
   "outputs": [
    {
     "data": {
      "image/png": "[encoded data removed]",
      "text/plain": [
       "<Figure size 1152x432 with 2 Axes>"
      ]
     },
     "metadata": {},
     "output_type": "display_data"
    }
   ],
   "source": [
    "history = [[], [], [], []]\n",
    "for epoch_i in range(num_epochs):\n",
    "    \n",
    "    print(\"Training:\")\n",
    "    train_loss = train_mae = train_batches = 0    \n",
    "    model.train(True)\n",
    "    \n",
    "    for batch in iterate_minibatches(data_train, max_batches=batches_per_epoch):\n",
    "        model_input, reference = batch_to_tensors(batch)\n",
    "\n",
    "        prediction = model(*model_input)\n",
    "\n",
    "        loss = compute_loss(reference, prediction)\n",
    "        loss.backward()\n",
    "        opt.step()\n",
    "        opt.zero_grad()\n",
    "        train_loss += loss.item()\n",
    "        train_mae += compute_mae(reference, prediction).item()\n",
    "        train_batches += 1\n",
    "    \n",
    "    history[0].append(train_loss / train_batches)\n",
    "    history[1].append(train_mae / train_batches)\n",
    "    print(\"\\tLoss:\\t%.5f\" % (history[0][-1]))\n",
    "    print(\"\\tMAE:\\t%.5f\" % (history[1][-1]))\n",
    "    print('\\n\\n')\n",
    "    \n",
    "    print(\"Validation:\")\n",
    "    val_loss = val_mae = val_batches = 0\n",
    "    model.train(False)\n",
    "    \n",
    "    for batch in iterate_minibatches(data_val, shuffle=False):\n",
    "        model_input, reference = batch_to_tensors(batch)\n",
    "        prediction = model(*model_input)\n",
    "        loss = compute_loss(reference, prediction)\n",
    "\n",
    "        val_loss += loss.item()\n",
    "        val_mae += compute_mae(reference, prediction).item()\n",
    "        val_batches += 1     \n",
    "        \n",
    "    history[2].append(val_loss / val_batches)\n",
    "    history[3].append(val_mae / val_batches)\n",
    "          \n",
    "    print(\"\\tLoss:\\t%.5f\" % (history[2][-1]))\n",
    "    print(\"\\tMAE:\\t%.5f\" % (history[3][-1]))\n",
    "    print('\\n\\n')\n",
    "          \n",
    "    display.clear_output(wait=True)\n",
    "    #plt.figure(figsize=(8, 6))\n",
    "    f, (ax1, ax2) = plt.subplots(1, 2, figsize=(16,6))\n",
    "    ax1.set_title(\"Loss\")\n",
    "    ax1.set_xlabel(\"#Epoch\")\n",
    "    ax1.set_ylabel(\"loss\")\n",
    "    ax1.plot(history[0], 'b', label='Train loss')\n",
    "    ax1.plot(history[2], 'r', label='Val loss')\n",
    "    #ax1.plot(ewma(np.array(train_loss), span=10),'r',label='ewm val loss')\n",
    "    ax1.legend(loc='best')\n",
    "    ax1.grid()\n",
    "    ax1.set_ylim(0, 1)\n",
    "\n",
    "    ax2.set_title(\"MAE\")\n",
    "    ax2.set_xlabel(\"#Epoch\")\n",
    "    ax2.set_ylabel(\"MAE\")\n",
    "    ax2.plot(history[1], 'b', label='Train mae')\n",
    "    ax2.plot(history[3], 'r', label='Val mae')\n",
    "    #ax2.plot(ewma(np.array(val_loss), span=10),'r',label='ewm val acc')\n",
    "    ax2.legend(loc='best')\n",
    "    ax2.grid()    \n",
    "    ax2.set_ylim(1800, 10000)\n",
    "\n",
    "    plt.show()              "
   ]
  },
  {
   "cell_type": "code",
   "execution_count": 50,
   "metadata": {},
   "outputs": [
    {
     "name": "stdout",
     "output_type": "stream",
     "text": [
      "Final eval:\n"
     ]
    },
    {
     "name": "stderr",
     "output_type": "stream",
     "text": [
      "/usr/local/lib/python3.6/dist-packages/ipykernel_launcher.py:12: TqdmDeprecationWarning: Please use `tqdm.notebook.trange` instead of `tqdm.tnrange`\n",
      "  if sys.path[0] == '':\n"
     ]
    },
    {
     "data": {
      "application/vnd.jupyter.widget-view+json": {
       "model_id": "66e81edebead452f88ea238723a7c5f4",
       "version_major": 2,
       "version_minor": 0
      },
      "text/plain": [
       "HBox(children=(HTML(value=''), FloatProgress(value=0.0, max=765.0), HTML(value='')))"
      ]
     },
     "metadata": {},
     "output_type": "display_data"
    },
    {
     "name": "stdout",
     "output_type": "stream",
     "text": [
      "\n",
      "\tLoss:\t0.07052\n",
      "\tMAE:\t2535.14479\n",
      "\n",
      "\n",
      "\n"
     ]
    }
   ],
   "source": [
    "print(\"Final eval:\")\n",
    "val_loss = val_mae = val_batches = 0\n",
    "\n",
    "for batch in iterate_minibatches(data_val, shuffle=False):\n",
    "    model_input, reference = batch_to_tensors(batch)\n",
    "\n",
    "    prediction = model(*model_input)\n",
    "    loss = compute_loss(reference, prediction)\n",
    "\n",
    "    val_loss += loss.item()\n",
    "    val_mae += compute_mae(reference, prediction).item()\n",
    "    val_batches += 1\n",
    "\n",
    "print(\"\\tLoss:\\t%.5f\" % (val_loss / val_batches))\n",
    "print(\"\\tMAE:\\t%.5f\" % (val_mae / val_batches))\n",
    "print('\\n\\n')"
   ]
  },
  {
   "cell_type": "markdown",
   "metadata": {},
   "source": [
    "### Task 3: explaining network predictions\n",
    "\n",
    "It's usually a good idea to understand what your model does before you let it make actual decisions. It's simple for linear models: just see which words learned positive or negative weights. However, its much harder for neural networks that learn complex nonlinear dependencies.\n",
    "\n",
    "There are, however, some ways to look inside the black box:\n",
    "* Seeing how model responds to input perturbations\n",
    "* Finding inputs that maximize/minimize activation of some chosen neurons (_read more [on distill.pub](https://distill.pub/2018/building-blocks/)_)\n",
    "* Building local linear approximations to your neural network: [article](https://arxiv.org/abs/1602.04938), [eli5 library](https://github.com/TeamHG-Memex/eli5/tree/master/eli5/formatters)\n",
    "\n",
    "Today we gonna try the first method just because it's the simplest one.\n",
    "\n",
    "__Your task__ is to measure how does model prediction change if you replace certain tokens with UNKs. The core idea is that if dropping a word from text causes model to predict lower log-salary, than this word probably has positive contribution to salary (and vice versa). The color to weight endcoding will be printed before the text."
   ]
  },
  {
   "cell_type": "code",
   "execution_count": 53,
   "metadata": {},
   "outputs": [],
   "source": [
    "def explain(model, sample, col_name='Title', max_len=None):\n",
    "    \"\"\" Computes the effect each word had on model predictions \"\"\"\n",
    "    \n",
    "    # compute model prediction on sample (scalar float log-salary)\n",
    "    batch = generate_batch(pd.DataFrame([sample]), 1)\n",
    "    title = torch.tensor(batch[\"Title\"], dtype=torch.int64).cuda()\n",
    "    full_description = torch.tensor(batch[\"FullDescription\"], dtype=torch.int64).cuda()\n",
    "    categorical = torch.tensor(batch[\"Categorical\"], dtype=torch.float32).cuda()\n",
    "    \n",
    "    baseline_pred = model(title, full_description, categorical).cpu().data.numpy()\n",
    "    \n",
    "    # for each i-th token in :col_name:, compute predictions on a copy of data\n",
    "    # where i-th token is dropped (UNK)\n",
    "    predictions_without_word = np.zeros(batch[col_name].shape[1])\n",
    "    def drop(sample, i):\n",
    "        tensor = torch.tensor(sample, dtype=torch.int64).cuda()\n",
    "        tensor[0, i] = UNK_IX\n",
    "        return tensor\n",
    "\n",
    "    for i in range(batch[col_name].shape[1]):\n",
    "        if col_name == 'Title':\n",
    "            title = drop(batch[col_name], i)\n",
    "        elif col_name == 'FullDescription':\n",
    "            full_description = drop(batch[col_name], i)\n",
    "        else:\n",
    "            raise RuntimeError\n",
    "      \n",
    "    predictions_without_word[i] = model(title, full_description, categorical).cpu().data.numpy()\n",
    "    \n",
    "    score_differences = [\n",
    "        prediction - baseline_pred for prediction in predictions_without_word\n",
    "    ]\n",
    "    \n",
    "    # return a list of pairs: [(token, score_difference)]\n",
    "    sample_text = sample[col_name].split()\n",
    "    return [(sample_text[i], score_differences[i]) for i in range(batch[col_name].shape[1])]"
   ]
  },
  {
   "cell_type": "code",
   "execution_count": 55,
   "metadata": {},
   "outputs": [
    {
     "name": "stdout",
     "output_type": "stream",
     "text": [
      "[('1st', array([-10.213355], dtype=float32)), ('line', array([-10.213355], dtype=float32)), ('support', array([-10.213355], dtype=float32)), ('/', array([-10.213355], dtype=float32)), ('helpdesk', array([-10.213355], dtype=float32)), ('administrator', array([0.], dtype=float32))]\n"
     ]
    }
   ],
   "source": [
    "# debugging area\n",
    "sample = data.iloc[np.random.randint(len(data))]\n",
    "#print(\"Input:\", sample)\n",
    "\n",
    "tokens_and_weights = explain(model, sample, \"Title\")\n",
    "print(tokens_and_weights)"
   ]
  },
  {
   "cell_type": "code",
   "execution_count": 56,
   "metadata": {},
   "outputs": [],
   "source": [
    "from IPython.display import HTML, display_html\n",
    "\n",
    "def draw_html(tokens_and_weights, cmap=plt.get_cmap(\"bwr\"), display=True,\n",
    "              token_template=\"\"\"<span style=\"background-color: {color_hex}\">{token}</span>\"\"\",\n",
    "              font_style=\"font-size:14px;\"\n",
    "             ):\n",
    "    \n",
    "    def get_color_hex(weight):\n",
    "        rgba = cmap(1. / (1 + np.exp(weight)), bytes=True)\n",
    "        return '#%02X%02X%02X' % rgba[:3]\n",
    "    \n",
    "    tokens_html = [\n",
    "        token_template.format(token=token, color_hex=get_color_hex(weight))\n",
    "        for token, weight in tokens_and_weights\n",
    "    ]\n",
    "    \n",
    "    \n",
    "    raw_html = \"\"\"<p style=\"{}\">{}</p>\"\"\".format(font_style, ' '.join(tokens_html))\n",
    "    if display:\n",
    "        display_html(HTML(raw_html))\n",
    "        \n",
    "    return raw_html\n",
    "\n",
    "\n",
    "\n",
    "def weight_to_color(tokens_and_weights, cmap=plt.get_cmap(\"bwr\"), display=True,\n",
    "              token_template=\"\"\"<span style=\"background-color: {color_hex}\">{token}</span>\"\"\",\n",
    "              font_style=\"font-size:14px;\"\n",
    "             ):\n",
    "    \n",
    "    def get_color_hex(weight):\n",
    "        rgba = cmap(1. / (1 + np.exp(weight)), bytes=True)\n",
    "        return '#%02X%02X%02X' % rgba[:3]\n",
    "    \n",
    "    tokens_html = [\n",
    "        token_template.format(token=weight, color_hex=get_color_hex(weight))\n",
    "        for token, weight in tokens_and_weights\n",
    "    ]\n",
    "    \n",
    "    \n",
    "    raw_html = \"\"\"<p style=\"{}\">{}</p>\"\"\".format(font_style, ' '.join(tokens_html))\n",
    "    if display:\n",
    "        display_html(HTML(raw_html))\n",
    "        \n",
    "    return raw_html\n",
    "    "
   ]
  },
  {
   "cell_type": "code",
   "execution_count": 69,
   "metadata": {},
   "outputs": [
    {
     "name": "stdout",
     "output_type": "stream",
     "text": [
      "Index: 242360\n"
     ]
    },
    {
     "data": {
      "text/html": [
       "<p style=\"font-size:20px;\"><span style=\"background-color: #FF0000\">sales</span> <span style=\"background-color: #FF0000\">,</span> <span style=\"background-color: #FF0000\">start</span> <span style=\"background-color: #FF0000\">now</span> <span style=\"background-color: #FF0000\">no</span> <span style=\"background-color: #FF0000\">experience</span> <span style=\"background-color: #E2E2FF\">needed</span></p>"
      ]
     },
     "metadata": {},
     "output_type": "display_data"
    },
    {
     "data": {
      "text/html": [
       "<p style=\"font-size:14px;\"><span style=\"background-color: #FF0000\">sales</span> <span style=\"background-color: #FF0000\">,</span> <span style=\"background-color: #FF0000\">start</span> <span style=\"background-color: #FF0000\">now</span> <span style=\"background-color: #FF0000\">no</span> <span style=\"background-color: #FF0000\">experience</span> <span style=\"background-color: #FF0000\">needed</span> <span style=\"background-color: #FF0000\">we</span> <span style=\"background-color: #FF0000\">are</span> <span style=\"background-color: #FF0000\">currently</span> <span style=\"background-color: #FF0000\">recruiting</span> <span style=\"background-color: #FF0000\">for</span> <span style=\"background-color: #FF0000\">an</span> <span style=\"background-color: #FF0000\">enthusiastic</span> <span style=\"background-color: #FF0000\">sales</span> <span style=\"background-color: #FF0000\">and</span> <span style=\"background-color: #FF0000\">marketing</span> <span style=\"background-color: #FF0000\">team</span> <span style=\"background-color: #FF0000\">for</span> <span style=\"background-color: #FF0000\">our</span> <span style=\"background-color: #FF0000\">nottingham</span> <span style=\"background-color: #FF0000\">location</span> <span style=\"background-color: #FF0000\">.</span> <span style=\"background-color: #FF0000\">representing</span> <span style=\"background-color: #FF0000\">national</span> <span style=\"background-color: #FF0000\">high</span> <span style=\"background-color: #FF0000\">brand</span> <span style=\"background-color: #FF0000\">clients</span> <span style=\"background-color: #FF0000\">and</span> <span style=\"background-color: #FF0000\">full</span> <span style=\"background-color: #FF0000\">product</span> <span style=\"background-color: #FF0000\">training</span> <span style=\"background-color: #FF0000\">provided</span> <span style=\"background-color: #FF0000\">,</span> <span style=\"background-color: #FF0000\">this</span> <span style=\"background-color: #FF0000\">could</span> <span style=\"background-color: #FF0000\">be</span> <span style=\"background-color: #FF0000\">the</span> <span style=\"background-color: #FF0000\">opportunity</span> <span style=\"background-color: #FF0000\">you</span> <span style=\"background-color: #FF0000\">have</span> <span style=\"background-color: #FF0000\">been</span> <span style=\"background-color: #FF0000\">looking</span> <span style=\"background-color: #FF0000\">for</span> <span style=\"background-color: #FF0000\">no</span> <span style=\"background-color: #FF0000\">previous</span> <span style=\"background-color: #FF0000\">sales</span> <span style=\"background-color: #FF0000\">experience</span> <span style=\"background-color: #FF0000\">is</span> <span style=\"background-color: #FF0000\">required</span> <span style=\"background-color: #FF0000\">as</span> <span style=\"background-color: #FF0000\">we</span> <span style=\"background-color: #FF0000\">have</span> <span style=\"background-color: #FF0000\">a</span> <span style=\"background-color: #FF0000\">team</span> <span style=\"background-color: #FF0000\">ready</span> <span style=\"background-color: #FF0000\">to</span> <span style=\"background-color: #FF0000\">coach</span> <span style=\"background-color: #FF0000\">and</span> <span style=\"background-color: #FF0000\">develop</span> <span style=\"background-color: #FF0000\">you</span> <span style=\"background-color: #FF0000\">in</span> <span style=\"background-color: #FF0000\">all</span> <span style=\"background-color: #FF0000\">aspects</span> <span style=\"background-color: #FF0000\">of</span> <span style=\"background-color: #FF0000\">our</span> <span style=\"background-color: #FF0000\">business</span> <span style=\"background-color: #FF0000\">and</span> <span style=\"background-color: #FF0000\">clients</span> <span style=\"background-color: #FF0000\">,</span> <span style=\"background-color: #FF0000\">but</span> <span style=\"background-color: #FF0000\">previous</span> <span style=\"background-color: #FF0000\">customer</span> <span style=\"background-color: #FF0000\">service</span> <span style=\"background-color: #FF0000\">,</span> <span style=\"background-color: #FF0000\">sales</span> <span style=\"background-color: #FF0000\">,</span> <span style=\"background-color: #FF0000\">advertising</span> <span style=\"background-color: #FF0000\">,</span> <span style=\"background-color: #FF0000\">promotions</span> <span style=\"background-color: #FF0000\">,</span> <span style=\"background-color: #FF0000\">retail</span> <span style=\"background-color: #FF0000\">,</span> <span style=\"background-color: #FF0000\">call</span> <span style=\"background-color: #FF0000\">centre</span> <span style=\"background-color: #FF0000\">,</span> <span style=\"background-color: #FF0000\">hospitality</span> <span style=\"background-color: #FF0000\">or</span> <span style=\"background-color: #FF0000\">marketing</span> <span style=\"background-color: #FF0000\">experience</span> <span style=\"background-color: #FF0000\">is</span> <span style=\"background-color: #FF0000\">welcome</span> <span style=\"background-color: #FF0000\">.</span> <span style=\"background-color: #FF0000\">successful</span> <span style=\"background-color: #FF0000\">applicants</span> <span style=\"background-color: #FF0000\">will</span> <span style=\"background-color: #FF0000\">;</span> <span style=\"background-color: #FF0000\">•</span> <span style=\"background-color: #FF0000\">have</span> <span style=\"background-color: #FF0000\">great</span> <span style=\"background-color: #FF0000\">people</span> <span style=\"background-color: #FF0000\">skills</span> <span style=\"background-color: #FF0000\">•</span> <span style=\"background-color: #FF0000\">be</span> <span style=\"background-color: #FF0000\">a</span> <span style=\"background-color: #FF0000\">team</span> <span style=\"background-color: #FF0000\">player</span> <span style=\"background-color: #FF0000\">•</span> <span style=\"background-color: #FF0000\">be</span> <span style=\"background-color: #FF0000\">looking</span> <span style=\"background-color: #FF0000\">for</span> <span style=\"background-color: #FF0000\">a</span> <span style=\"background-color: #FF0000\">new</span> <span style=\"background-color: #FF0000\">challenge</span> <span style=\"background-color: #FF0000\">•</span> <span style=\"background-color: #FF0000\">be</span> <span style=\"background-color: #FF0000\">focused</span> <span style=\"background-color: #FF0000\">towards</span> <span style=\"background-color: #FF0000\">hitting</span> <span style=\"background-color: #FF0000\">targets</span> <span style=\"background-color: #FF0000\">•</span> <span style=\"background-color: #FF0000\">you</span> <span style=\"background-color: #FF0000\">will</span> <span style=\"background-color: #FF0000\">be</span> <span style=\"background-color: #FF0000\">responsible</span> <span style=\"background-color: #FF0000\">for</span> <span style=\"background-color: #FF0000\">;</span> <span style=\"background-color: #FF0000\">•</span> <span style=\"background-color: #FF0000\">delivering</span> <span style=\"background-color: #FF0000\">high</span> <span style=\"background-color: #FF0000\">quality</span> <span style=\"background-color: #FF0000\">performance</span> <span style=\"background-color: #FF0000\">•</span> <span style=\"background-color: #FF0000\">understanding</span> <span style=\"background-color: #FF0000\">clients</span> <span style=\"background-color: #FF0000\">and</span> <span style=\"background-color: #FF0000\">customers</span> <span style=\"background-color: #FF0000\">requirements</span> <span style=\"background-color: #FF0000\">•</span> <span style=\"background-color: #FF0000\">generating</span> <span style=\"background-color: #FF0000\">a</span> <span style=\"background-color: #FF0000\">high</span> <span style=\"background-color: #FF0000\">customer</span> <span style=\"background-color: #FF0000\">service</span> <span style=\"background-color: #FF0000\">skill</span> <span style=\"background-color: #FF0000\">set</span> <span style=\"background-color: #FF0000\">•</span> <span style=\"background-color: #FF0000\">promoting</span> <span style=\"background-color: #FF0000\">and</span> <span style=\"background-color: #FF0000\">delivering</span> <span style=\"background-color: #FF0000\">our</span> <span style=\"background-color: #FF0000\">client</span> <span style=\"background-color: #FF0000\">to</span> <span style=\"background-color: #FF0000\">people</span> <span style=\"background-color: #FF0000\">benefits</span> <span style=\"background-color: #FF0000\">include</span> <span style=\"background-color: #FF0000\">•</span> <span style=\"background-color: #FF0000\">full</span> <span style=\"background-color: #FF0000\">product</span> <span style=\"background-color: #FF0000\">training</span> <span style=\"background-color: #FF0000\">•</span> <span style=\"background-color: #FF0000\">travel</span> <span style=\"background-color: #FF0000\">opportunities</span> <span style=\"background-color: #FF0000\">•</span> <span style=\"background-color: #FF0000\">great</span> <span style=\"background-color: #FF0000\">&</span> <span style=\"background-color: #FF0000\">fun</span> <span style=\"background-color: #FF0000\">working</span> <span style=\"background-color: #FF0000\">environment</span> <span style=\"background-color: #FF0000\">****</span> <span style=\"background-color: #FF0000\">****</span> <span style=\"background-color: #FF0000\">per</span> <span style=\"background-color: #FF0000\">week</span> <span style=\"background-color: #FF0000\">average</span> <span style=\"background-color: #FF0000\">earnings</span> <span style=\"background-color: #FF0000\">immediate</span> <span style=\"background-color: #FF0000\">start</span> <span style=\"background-color: #FF0000\">available</span> <span style=\"background-color: #FF0000\">apply</span> <span style=\"background-color: #FF0000\">online</span> <span style=\"background-color: #FF0000\">now</span> <span style=\"background-color: #FF0000\">all</span> <span style=\"background-color: #FF0000\">candidates</span> <span style=\"background-color: #FF0000\">must</span> <span style=\"background-color: #FF0000\">be</span> <span style=\"background-color: #FF0000\">****</span> <span style=\"background-color: #FF0000\">or</span> <span style=\"background-color: #FF0000\">over</span> <span style=\"background-color: #FF0000\">,</span> <span style=\"background-color: #FF0000\">live</span> <span style=\"background-color: #FF0000\">in</span> <span style=\"background-color: #FF0000\">the</span> <span style=\"background-color: #FF0000\">uk</span> <span style=\"background-color: #FF0000\">,</span> <span style=\"background-color: #FF0000\">nottingham</span> <span style=\"background-color: #FF0000\">area</span> <span style=\"background-color: #FF0000\">&</span> <span style=\"background-color: #FF0000\">must</span> <span style=\"background-color: #FF0000\">be</span> <span style=\"background-color: #FF0000\">able</span> <span style=\"background-color: #FF0000\">to</span> <span style=\"background-color: #FF0000\">commute</span> <span style=\"background-color: #FF0000\">to</span> <span style=\"background-color: #FF0000\">our</span> <span style=\"background-color: #FF0000\">nottingham</span> <span style=\"background-color: #FF0000\">office</span> <span style=\"background-color: #FF0000\">daily</span> <span style=\"background-color: #FCFCFF\">.</span></p>"
      ]
     },
     "metadata": {},
     "output_type": "display_data"
    }
   ],
   "source": [
    "i = np.random.randint(len(data))\n",
    "sample = data.loc[i]\n",
    "print(\"Index:\", i)\n",
    "\n",
    "# predict salary on sample\n",
    "tokens_and_weights = explain(model, sample, \"Title\")\n",
    "draw_html([(tok, weight[0] * 5) for tok, weight in tokens_and_weights], font_style='font-size:20px;');\n",
    "\n",
    "tokens_and_weights = explain(model, sample, \"FullDescription\")\n",
    "draw_html([(tok, weight[0] * 10) for tok, weight in tokens_and_weights]);"
   ]
  },
  {
   "cell_type": "markdown",
   "metadata": {},
   "source": [
    "### Task 4: Actually make it work\n",
    "\n",
    "Your main task is to use some of the tricks you've learned on the network and analyze if you can improve __validation MAE__.\n",
    "\n",
    "Try __at least 3 options__ from the list below for a passing grade. Please, make experiments (below) with each point separately and then allgotether.\n",
    "\n",
    "\n",
    "If you're into \n",
    "\n",
    "#### A) CNN architecture\n",
    "\n",
    "All the tricks you know about dense and convolutional neural networks apply here as well.\n",
    "* Dropout. Nuff said.\n",
    "* Batch Norm. This time it's `nn.BatchNorm1d`\n",
    "* Parallel convolution layers. The idea is that you apply several nn.Conv1d to the same embeddings and concatenate output channels.\n",
    "* More layers, more neurons, ya know...\n",
    "\n",
    "\n",
    "#### B) Play with pooling (create a separate class for this one)\n",
    "\n",
    "There's more than one way to do max pooling:\n",
    "* Max over time - our `GlobalMaxPooling`\n",
    "* Average over time (excluding PAD)\n",
    "* Softmax-pooling:\n",
    "$$ out_{i, t} = \\sum_t {h_{i,t} \\cdot {{e ^ {h_{i, t}}} \\over \\sum_\\tau e ^ {h_{j, \\tau}} } }$$\n",
    "\n",
    "* Attentive pooling\n",
    "$$ out_{i, t} = \\sum_t {h_{i,t} \\cdot Attn(h_t)}$$\n",
    "\n",
    ", where $$ Attn(h_t) = {{e ^ {NN_{attn}(h_t)}} \\over \\sum_\\tau e ^ {NN_{attn}(h_\\tau)}}  $$\n",
    "and $NN_{attn}$ is a small neural network\n",
    "\n",
    "\n",
    "The optimal score is usually achieved by concatenating several different poolings, including several attentive pooling with different $NN_{attn}$\n",
    "\n",
    "#### C) Fun with embeddings\n",
    "\n",
    "It's not always a good idea to train embeddings from scratch. Here's a few tricks:\n",
    "\n",
    "* Use a pre-trained word2vec from [here](http://ahogrammer.com/2017/01/20/the-list-of-pretrained-word-embeddings/) or [here](http://mccormickml.com/2016/04/12/googles-pretrained-word2vec-model-in-python/).\n",
    "* Start with pre-trained embeddings, then fine-tune them with gradient descent\n",
    "* Use the same embedding matrix in title and desc vectorizer\n",
    "\n",
    "#### D) Going recurrent\n",
    "\n",
    "We've already learned that recurrent networks can do cool stuff in sequence modelling. Turns out, they're not useless for classification as well. With some tricks of course..\n",
    "\n",
    "* Like convolutional layers, LSTM should be pooled into a fixed-size vector with some of the poolings.\n",
    "  * Please bear in mind that while convolution uses [batch, units, time] dim order, \n",
    "    recurrent units are built for [batch, time, unit]. You may need to `torch.transpose`.\n",
    "\n",
    "* Since you know all the text in advance, use bidirectional RNN\n",
    "  * Run one LSTM from left to right\n",
    "  * Run another in parallel from right to left \n",
    "  * Concatenate their output sequences along unit axis (dim=-1)\n",
    "\n",
    "* It might be good idea to mix convolutions and recurrent layers differently for title and description\n",
    "\n",
    "\n",
    "#### E) Optimizing seriously\n",
    "\n",
    "* You don't necessarily need 100 epochs. Use early stopping. If you've never done this before, take a look at [keras](https://github.com/keras-team/keras/blob/master/keras/callbacks.py#L461) for inspiration.\n",
    "  * In short, train until you notice that validation\n",
    "  * Maintain the best-on-validation snapshot via `model.state_dict`\n",
    "  * Plotting learning curves is usually a good idea"
   ]
  },
  {
   "cell_type": "markdown",
   "metadata": {},
   "source": [
    "### A short report\n",
    "\n",
    "Please tell us what you did and how did it work.\n",
    "\n",
    "`<YOUR_TEXT_HERE>`, i guess..."
   ]
  },
  {
   "cell_type": "code",
   "execution_count": null,
   "metadata": {},
   "outputs": [],
   "source": []
  }
 ],
 "metadata": {
  "kernelspec": {
   "display_name": "Python 3",
   "language": "python",
   "name": "python3"
  },
  "language_info": {
   "codemirror_mode": {
    "name": "ipython",
    "version": 3
   },
   "file_extension": ".py",
   "mimetype": "text/x-python",
   "name": "python",
   "nbconvert_exporter": "python",
   "pygments_lexer": "ipython3",
   "version": "3.6.9"
  }
 },
 "nbformat": 4,
 "nbformat_minor": 2
}
